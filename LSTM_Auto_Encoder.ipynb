{
  "nbformat": 4,
  "nbformat_minor": 0,
  "metadata": {
    "colab": {
      "name": "LSTM_Auto_Encoder.ipynb",
      "provenance": [],
      "collapsed_sections": []
    },
    "kernelspec": {
      "display_name": "Python 3",
      "name": "python3"
    },
    "language_info": {
      "name": "python"
    }
  },
  "cells": [
    {
      "cell_type": "markdown",
      "metadata": {
        "id": "-za5rAvqmgrd"
      },
      "source": [
        "# Loading the data"
      ]
    },
    {
      "cell_type": "code",
      "metadata": {
        "id": "GdeBhOpDa7xb"
      },
      "source": [
        "# Load data using read_csv\n",
        "from pandas import read_csv, concat\n",
        "from matplotlib import pyplot\n",
        "# write the path and column names of the CSV file\n",
        "df = read_csv('path/to/csv/file',usecols=[\"col1\",\"col2\"])\n",
        "print(df1.head())"
      ],
      "execution_count": null,
      "outputs": []
    },
    {
      "cell_type": "code",
      "metadata": {
        "id": "4rgKU7S1izug"
      },
      "source": [
        "# col1 plots\n",
        "pyplot.figure(figsize=(18,5))\n",
        "pyplot.plot(df[\"col1\"])\n",
        "pyplot.title(\"the dataset (col1)\")\n",
        "\n",
        "# col2 plots\n",
        "pyplot.figure(figsize=(18,5))\n",
        "pyplot.plot(df[\"col2\"],\"r\")\n",
        "pyplot.title(\"the dataset (col2)\")\n",
        "\n",
        "pyplot.show()\n",
        "\n",
        "# printing Stats\n",
        "print(\"\\nThe table below shows the summary caracteristics of the dataset :\\n\")\n",
        "print(df.describe(),\"\\n\\n\")"
      ],
      "execution_count": null,
      "outputs": []
    },
    {
      "cell_type": "markdown",
      "metadata": {
        "id": "DAjHOYvxXJl1"
      },
      "source": [
        "# Preparing the dataset"
      ]
    },
    {
      "cell_type": "code",
      "metadata": {
        "id": "O-2eFZlRlxy-"
      },
      "source": [
        "# lstm autoencoder to recreate a timeseries\n",
        "import numpy as np\n",
        "from keras.models import Sequential\n",
        "from keras.layers import LSTM\n",
        "from keras.layers import Dense\n",
        "from keras.layers import RepeatVector\n",
        "from keras.layers import TimeDistributed\n",
        "'''\n",
        "A UDF to convert input data into 3-D\n",
        "array as required for LSTM network.\n",
        "'''\n",
        "def temporalize(X, lookback):\n",
        "    output_X = []\n",
        "    for i in range(len(X)-lookback+1):\n",
        "        t = []\n",
        "        for j in range(0,lookback):\n",
        "            # Gather past records upto the lookback period\n",
        "            t.append(X[[(i+j)], :])\n",
        "        output_X.append(t)\n",
        "    return output_X"
      ],
      "execution_count": null,
      "outputs": []
    },
    {
      "cell_type": "code",
      "metadata": {
        "colab": {
          "base_uri": "https://localhost:8080/"
        },
        "id": "TgLGL-UPnfuc",
        "outputId": "8162e75d-28b8-4558-ba4c-d9be7f4bc482"
      },
      "source": [
        "# define input timeseries\n",
        "timeseries = np.array([df[col1],df[col2]]).transpose()\n",
        "print(timeseries.shape)\n",
        "timeseries[:10]"
      ],
      "execution_count": null,
      "outputs": [
        {
          "output_type": "stream",
          "text": [
            "(2803, 2)\n"
          ],
          "name": "stdout"
        },
        {
          "output_type": "execute_result",
          "data": {
            "text/plain": [
              "array([[0.7416    , 0.80133333],\n",
              "       [0.739     , 0.803     ],\n",
              "       [0.7354    , 0.806     ],\n",
              "       [0.7322    , 0.808     ],\n",
              "       [0.7294    , 0.80933333],\n",
              "       [0.7276    , 0.80966667],\n",
              "       [0.7258    , 0.81033333],\n",
              "       [0.7254    , 0.811     ],\n",
              "       [0.7242    , 0.81266667],\n",
              "       [0.7232    , 0.813     ]])"
            ]
          },
          "metadata": {
            "tags": []
          },
          "execution_count": 6
        }
      ]
    },
    {
      "cell_type": "code",
      "metadata": {
        "colab": {
          "base_uri": "https://localhost:8080/"
        },
        "id": "MzxtNqohnOyy",
        "outputId": "1b72e16b-6c68-4c1a-f89b-d3bf16b507f8"
      },
      "source": [
        "timesteps = 100\n",
        "n_features = 2\n",
        "# X, y = temporalize(X = timeseries, y = np.zeros(len(timeseries)), lookback = timesteps)\n",
        "X= temporalize(X = timeseries, lookback = timesteps)\n",
        "\n",
        "X = np.array(X)\n",
        "X = X.reshape(X.shape[0], timesteps, n_features)\n",
        "\n",
        "X.shape"
      ],
      "execution_count": null,
      "outputs": [
        {
          "output_type": "execute_result",
          "data": {
            "text/plain": [
              "(2704, 100, 2)"
            ]
          },
          "metadata": {
            "tags": []
          },
          "execution_count": 7
        }
      ]
    },
    {
      "cell_type": "markdown",
      "metadata": {
        "id": "OtiiXpRst5-i"
      },
      "source": [
        "# Building the model"
      ]
    },
    {
      "cell_type": "code",
      "metadata": {
        "colab": {
          "base_uri": "https://localhost:8080/"
        },
        "id": "vusFWuJdnu0K",
        "outputId": "2ea51429-2fc0-46f5-9b28-ebba3ba03644"
      },
      "source": [
        "# define model\n",
        "model = Sequential()\n",
        "model.add(LSTM(128, activation='relu', input_shape=(timesteps,n_features), return_sequences=True))\n",
        "model.add(LSTM(32, activation='relu', return_sequences=False))\n",
        "model.add(RepeatVector(timesteps))\n",
        "model.add(LSTM(32, activation='relu', return_sequences=True))\n",
        "model.add(LSTM(128, activation='relu', return_sequences=True))\n",
        "model.add(TimeDistributed(Dense(n_features)))\n",
        "model.compile(optimizer='rmsprop', loss='mae', metrics=[\"accuracy\"])\n",
        "model.summary()"
      ],
      "execution_count": null,
      "outputs": [
        {
          "output_type": "stream",
          "text": [
            "Model: \"sequential\"\n",
            "_________________________________________________________________\n",
            "Layer (type)                 Output Shape              Param #   \n",
            "=================================================================\n",
            "lstm (LSTM)                  (None, 100, 128)          67072     \n",
            "_________________________________________________________________\n",
            "lstm_1 (LSTM)                (None, 32)                20608     \n",
            "_________________________________________________________________\n",
            "repeat_vector (RepeatVector) (None, 100, 32)           0         \n",
            "_________________________________________________________________\n",
            "lstm_2 (LSTM)                (None, 100, 32)           8320      \n",
            "_________________________________________________________________\n",
            "lstm_3 (LSTM)                (None, 100, 128)          82432     \n",
            "_________________________________________________________________\n",
            "time_distributed (TimeDistri (None, 100, 2)            258       \n",
            "=================================================================\n",
            "Total params: 178,690\n",
            "Trainable params: 178,690\n",
            "Non-trainable params: 0\n",
            "_________________________________________________________________\n"
          ],
          "name": "stdout"
        }
      ]
    },
    {
      "cell_type": "code",
      "metadata": {
        "id": "bKFACG9Xt1o4"
      },
      "source": [
        "# fit model\n",
        "history = model.fit(X, X, epochs=20, batch_size=5, verbose=1, validation_split=0.2)\n",
        "# demonstrate reconstruction\n",
        "yhat = model.predict(X, verbose=1)"
      ],
      "execution_count": null,
      "outputs": []
    },
    {
      "cell_type": "markdown",
      "metadata": {
        "id": "TOcD7mtfzIYq"
      },
      "source": [
        "# Visualizing the performance of the model"
      ]
    },
    {
      "cell_type": "code",
      "metadata": {
        "id": "9iNFvjVRI0CG"
      },
      "source": [
        "import matplotlib.pyplot as plt\n",
        "acc = history.history['accuracy']\n",
        "val_acc = history.history['val_accuracy']\n",
        "loss = history.history['loss']\n",
        "val_loss = history.history['val_loss']\n",
        "\n",
        "epochs = range(len(acc))\n",
        "\n",
        "plt.plot(epochs, acc, 'r', label='Training accuracy')\n",
        "plt.plot(epochs, val_acc, 'b', label='Validation accuracy')\n",
        "plt.title('Training and validation accuracy')\n",
        "plt.legend(loc=0)\n",
        "plt.figure()\n",
        "\n",
        "plt.plot(epochs, loss, 'r', label='Training loss')\n",
        "plt.plot(epochs, val_loss, 'b', label='Validation loss')\n",
        "plt.title('Training and validation loss')\n",
        "plt.legend(loc=0)\n",
        "plt.figure()\n",
        "\n",
        "plt.show()"
      ],
      "execution_count": null,
      "outputs": []
    },
    {
      "cell_type": "code",
      "metadata": {
        "id": "Bgn2YBXpfQ53"
      },
      "source": [
        "a=len(X)//timesteps\n",
        "X1 = X[[i*timesteps for i in range(a)],:,0]\n",
        "X1=X1.reshape(X1.shape[0]*X1.shape[1])\n",
        "X1=list(X1)\n",
        "yhat1 = yhat[[i*timesteps for i in range(a)],:,0]\n",
        "yhat1=yhat1.reshape(yhat1.shape[0]*yhat1.shape[1])\n",
        "yhat1=list(yhat1)\n",
        "\n",
        "X2 = X[[i*timesteps for i in range(a)],:,1]\n",
        "X2=X2.reshape(X2.shape[0]*X2.shape[1])\n",
        "X2=list(X2)\n",
        "yhat2 = yhat[[i*timesteps for i in range(a)],:,1]\n",
        "yhat2=yhat2.reshape(yhat2.shape[0]*yhat2.shape[1])\n",
        "yhat2=list(yhat2)"
      ],
      "execution_count": null,
      "outputs": []
    },
    {
      "cell_type": "code",
      "metadata": {
        "id": "LWJ74Q4GucMy"
      },
      "source": [
        "l1=list(range(len(X1)))"
      ],
      "execution_count": null,
      "outputs": []
    },
    {
      "cell_type": "code",
      "metadata": {
        "id": "IZNd8Y9GB5IK"
      },
      "source": [
        "import matplotlib.pyplot as plt\n",
        "\n",
        "plt.figure(figsize=(20,5))\n",
        "plt.plot(l1, X1, label='Actual data')\n",
        "plt.plot(l1, yhat1, 'r', label='Predicted data')\n",
        "plt.title('Reconstruction of the Humidity measurements')\n",
        "plt.show()\n",
        "\n",
        "plt.figure(figsize=(20,5))\n",
        "plt.plot(l1, X2, label='Actual data')\n",
        "plt.plot(l1, yhat2, 'r', label='Predicted data')\n",
        "plt.title('Reconstruction of the Temperature measurements')\n",
        "plt.show()"
      ],
      "execution_count": null,
      "outputs": []
    }
  ]
}
